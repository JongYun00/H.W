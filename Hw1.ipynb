{
 "cells": [
  {
   "cell_type": "code",
   "execution_count": 33,
   "id": "d410976f-e50d-4cbd-9598-a577a598b76d",
   "metadata": {},
   "outputs": [],
   "source": [
    "\"\"\"\n",
    "Lovely lovesheet \n",
    "목재에 터프팅된 폴리에스테르 블렌딩.\n",
    "높이 32인치 x 너비 40인치 x 깊이 30인치, 빨간색 아니면 흰색.\n",
    "\"\"\"\n",
    "lovely_loveseat_description = \"Lovely lovesheet은 목재에 터프팅된 폴리에스테르 블렌딩, 높이 32인치 x 너비 40인치 x 깊이 30인치, 색깔은 빨간색 아니면 흰색입니다.\"\n",
    "lovely_loveseat_price = 254.00 #가격"
   ]
  },
  {
   "cell_type": "code",
   "execution_count": 34,
   "id": "ab702a6a-793b-4bc8-9c0d-385ad04cb092",
   "metadata": {},
   "outputs": [],
   "source": [
    "\"\"\"\n",
    "style_settee\n",
    "자작나무에 인조가죽\n",
    "높이 29.50인치 X 너비 54.75인치 X 깊이 28인치, 검정색\n",
    "\"\"\"\n",
    "style_settee_description = \"style_settee은 자작나무에 인조가죽, 높이 29.50인치 X 너비 54.75인치 X 깊이 28인치, 색은 검정색입니다.\"\n",
    "style_settee_price = 180.50  #가격"
   ]
  },
  {
   "cell_type": "code",
   "execution_count": 35,
   "id": "b3f78db7-0f3e-4cd9-8625-f65f509155c7",
   "metadata": {},
   "outputs": [],
   "source": [
    "\"\"\"\n",
    "luxurioyus_lamp\n",
    "럭셔리 램프, 유리와 철, 36인치, 갈색에 크림색\n",
    "\"\"\"\n",
    "luxurioyus_lamp_description = \"luxurioyus_lamp은 럭셔리 램프, 유리와 철, 높이 36인치, 색은 갈색에 크림색입니다.\"\n",
    "luxurioyus_lamp_price = 52.15 #가격"
   ]
  },
  {
   "cell_type": "code",
   "execution_count": 36,
   "id": "580b521b-8457-4ecb-87d8-cf4b30d811af",
   "metadata": {},
   "outputs": [],
   "source": [
    "#할인세\n",
    "sales_tax = 0.88 #8.8%"
   ]
  },
  {
   "cell_type": "code",
   "execution_count": 37,
   "id": "599941a9-c4b5-4b1f-9978-d93a317bce6a",
   "metadata": {},
   "outputs": [],
   "source": [
    "#첫번째 고객\n",
    "customer_one_total = 0\n",
    "customer_one_itemization = \"\"\n",
    "#첫번쨰 고객이 살 문건은 러블리 러브시트\n",
    "customer_one_total = lovely_loveseat_price + luxurioyus_lamp_price\n",
    "customer_one_itemization = lovely_loveseat_description + luxurioyus_lamp_description"
   ]
  },
  {
   "cell_type": "code",
   "execution_count": 38,
   "id": "f75ceff6-b8eb-42a9-9346-260648ba7df7",
   "metadata": {},
   "outputs": [],
   "source": [
    "#계산\n",
    "customer_one_total_times_sales_tax = customer_one_tax\n",
    "customer_one_tax = customer_one_total + sales_tax"
   ]
  },
  {
   "cell_type": "code",
   "execution_count": 43,
   "id": "6250dc29-67ac-4e9c-b70d-b4deb7a00419",
   "metadata": {},
   "outputs": [
    {
     "name": "stdout",
     "output_type": "stream",
     "text": [
      "Customer One Total: Lovely lovesheet은 목재에 터프팅된 폴리에스테르 블렌딩, 높이 32인치 x 너비 40인치 x 깊이 30인치, 색깔은 빨간색 아니면 흰색입니다.luxurioyus_lamp은 럭셔리 램프, 유리와 철, 높이 36인치, 색은 갈색에 크림색입니다.\n"
     ]
    }
   ],
   "source": [
    "#영수증 출력\n",
    "print(\"Customer One Total:\",customer_one_itemization)"
   ]
  },
  {
   "cell_type": "code",
   "execution_count": 21,
   "id": "9847953e-db2a-41aa-993a-8b4ffeb15fad",
   "metadata": {},
   "outputs": [
    {
     "name": "stdout",
     "output_type": "stream",
     "text": [
      "Customer One Total: %d 254.88\n"
     ]
    }
   ],
   "source": [
    "#총 비용\n",
    "print(\"Customer One Total: %d\", customer_one_total_times_sales_tax)"
   ]
  }
 ],
 "metadata": {
  "kernelspec": {
   "display_name": "Python 3 (ipykernel)",
   "language": "python",
   "name": "python3"
  },
  "language_info": {
   "codemirror_mode": {
    "name": "ipython",
    "version": 3
   },
   "file_extension": ".py",
   "mimetype": "text/x-python",
   "name": "python",
   "nbconvert_exporter": "python",
   "pygments_lexer": "ipython3",
   "version": "3.9.12"
  }
 },
 "nbformat": 4,
 "nbformat_minor": 5
}
