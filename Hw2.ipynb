{
 "cells": [
  {
   "cell_type": "code",
   "execution_count": 33,
   "id": "a7b2406d-b201-4ad2-a195-7d8ea54c85cd",
   "metadata": {},
   "outputs": [
    {
     "name": "stdout",
     "output_type": "stream",
     "text": [
      "[['physics', 98], ['calculus', 97], ['poetry', 85], ['history', 88]]\n"
     ]
    }
   ],
   "source": [
    "#2중배열 만들기\n",
    "Name = [\"physics\", \"calculus\", \"poetry\", \"history\"]\n",
    "Test_Score = [98, 97, 85, 88]\n",
    "gradebook = [[\"physics\", 98], [\"calculus\",97], [\"poetry\", 85], [\"history\", 88]]\n",
    "#출력\n",
    "print(gradebook)"
   ]
  },
  {
   "cell_type": "code",
   "execution_count": 34,
   "id": "8b94bed4-7f7d-4045-a42b-b0a36c2956f3",
   "metadata": {},
   "outputs": [
    {
     "name": "stdout",
     "output_type": "stream",
     "text": [
      "[['physics', 98], ['calculus', 97], ['poetry', 85], ['history', 88], ['science', 100]]\n"
     ]
    }
   ],
   "source": [
    "#과학점수 추가하기\n",
    "gradebook.append([\"science\",100])\n",
    "print(gradebook)"
   ]
  },
  {
   "cell_type": "code",
   "execution_count": 35,
   "id": "9ff985d7-0ca7-41e2-92fa-161b2dd4d790",
   "metadata": {},
   "outputs": [
    {
     "name": "stdout",
     "output_type": "stream",
     "text": [
      "[['physics', 98], ['calculus', 97], ['poetry', 85], ['history', 88], ['science', 100], ['visual arts', 93]]\n",
      "[['physics', 98], ['calculus', 97], ['poetry', 85], ['history', 88], ['science', 100], ['visual arts', 98]]\n"
     ]
    }
   ],
   "source": [
    "#시각예술점수 추가하기\n",
    "gradebook.append([\"visual arts\",93])\n",
    "print(gradebook)\n",
    "#시각예술점수 변경하기\n",
    "gradebook[5][1] = 98\n",
    "print(gradebook)"
   ]
  },
  {
   "cell_type": "code",
   "execution_count": 36,
   "id": "bd97a85a-a254-4a6b-9a05-2b393f01a1ce",
   "metadata": {},
   "outputs": [
    {
     "name": "stdout",
     "output_type": "stream",
     "text": [
      "[['physics', 98], ['calculus', 97], ['poetry', 'pass'], ['history', 88], ['science', 100], ['visual arts', 93]]\n"
     ]
    }
   ],
   "source": [
    "#poetry점수 Pass/Fail로 바꾸기\n",
    "gradebook.remove([\"poetry\",85])\n",
    "for i in range(2,4) :\n",
    "    gradebook.pop(i)\n",
    "gradebook.remove([\"science\", 100])\n",
    "gradebook.append([\"poetry\",\"pass\"])\n",
    "gradebook.append([\"history\",88])\n",
    "gradebook.append([\"science\",100])\n",
    "gradebook.append([\"visual arts\",93])\n",
    "print(gradebook)"
   ]
  },
  {
   "cell_type": "code",
   "execution_count": 37,
   "id": "8a2f7cf7-8a71-4383-8b6b-1425964b1f0e",
   "metadata": {},
   "outputs": [
    {
     "name": "stdout",
     "output_type": "stream",
     "text": [
      "[['physics', 98], ['calculus', 97], ['poetry', 'pass'], ['history', 88], ['science', 100], ['visual arts', 93], ['politics', 80], ['latin', 96], ['dance', 97], ['architecture', 65]]\n"
     ]
    }
   ],
   "source": [
    "#지난 학기 성적표\n",
    "last_semester_gradebook = [[\"politics\", 80], [\"latin\", 96],[\"dance\", 97],[\"architecture\",65]]\n",
    "#지난 학기 성적표 + 이번학기 성적표\n",
    "full_gradebook = gradebook + last_semester_gradebook\n",
    "print(full_gradebook)"
   ]
  }
 ],
 "metadata": {
  "kernelspec": {
   "display_name": "Python 3 (ipykernel)",
   "language": "python",
   "name": "python3"
  },
  "language_info": {
   "codemirror_mode": {
    "name": "ipython",
    "version": 3
   },
   "file_extension": ".py",
   "mimetype": "text/x-python",
   "name": "python",
   "nbconvert_exporter": "python",
   "pygments_lexer": "ipython3",
   "version": "3.9.12"
  }
 },
 "nbformat": 4,
 "nbformat_minor": 5
}
